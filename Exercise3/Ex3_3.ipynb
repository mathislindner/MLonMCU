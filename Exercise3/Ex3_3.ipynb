{
 "cells": [
  {
   "cell_type": "markdown",
   "metadata": {},
   "source": [
    "# Machine Learning on MCU - Ex3.3\n",
    "\n",
    "This exercise will introduce you to Keras, one of the most popular frameworks used in Deep Learning.\n",
    "\n",
    "You will train a simple multi-layer perceptron to predict Human Activity from Smartphone Accelerometer and Gyroscope Data (the same dataset you used in exercise 2).\n"
   ]
  },
  {
   "cell_type": "code",
   "execution_count": 2,
   "metadata": {},
   "outputs": [],
   "source": [
    "# Import the necessary packages\n",
    "\n",
    "\n",
    "# Note: use Tensor Flow backend for Keras as suggested on keras.io:\n",
    "# \"At this time, we recommend that Keras users who use multi-backend Keras with the TensorFlow backend switch to tf.keras in TensorFlow 2.0. tf.keras is better maintained and has better integration with TensorFlow features (eager execution, distribution support and other).\"\n",
    "import tensorflow as tf\n",
    "import tensorflow.keras as keras\n",
    "from tensorflow.keras import layers, models, regularizers\n",
    "\n",
    "\n",
    "from __future__ import division\n",
    "import pandas as pd\n",
    "import numpy as np\n",
    "import matplotlib.pyplot as plt\n",
    "%matplotlib inline\n",
    "\n",
    "import random\n",
    "random.seed(7)"
   ]
  },
  {
   "cell_type": "code",
   "execution_count": 3,
   "metadata": {},
   "outputs": [
    {
     "name": "stdout",
     "output_type": "stream",
     "text": [
      "There are 561 features.\n",
      "There are 12 activities.\n"
     ]
    },
    {
     "data": {
      "text/html": [
       "<div>\n",
       "<style scoped>\n",
       "    .dataframe tbody tr th:only-of-type {\n",
       "        vertical-align: middle;\n",
       "    }\n",
       "\n",
       "    .dataframe tbody tr th {\n",
       "        vertical-align: top;\n",
       "    }\n",
       "\n",
       "    .dataframe thead th {\n",
       "        text-align: right;\n",
       "    }\n",
       "</style>\n",
       "<table border=\"1\" class=\"dataframe\">\n",
       "  <thead>\n",
       "    <tr style=\"text-align: right;\">\n",
       "      <th></th>\n",
       "      <th>Activity_id</th>\n",
       "      <th>Activity_label</th>\n",
       "    </tr>\n",
       "  </thead>\n",
       "  <tbody>\n",
       "    <tr>\n",
       "      <th>0</th>\n",
       "      <td>1</td>\n",
       "      <td>WALKING</td>\n",
       "    </tr>\n",
       "    <tr>\n",
       "      <th>1</th>\n",
       "      <td>2</td>\n",
       "      <td>WALKING_UPSTAIRS</td>\n",
       "    </tr>\n",
       "    <tr>\n",
       "      <th>2</th>\n",
       "      <td>3</td>\n",
       "      <td>WALKING_DOWNSTAIRS</td>\n",
       "    </tr>\n",
       "    <tr>\n",
       "      <th>3</th>\n",
       "      <td>4</td>\n",
       "      <td>SITTING</td>\n",
       "    </tr>\n",
       "    <tr>\n",
       "      <th>4</th>\n",
       "      <td>5</td>\n",
       "      <td>STANDING</td>\n",
       "    </tr>\n",
       "    <tr>\n",
       "      <th>5</th>\n",
       "      <td>6</td>\n",
       "      <td>LAYING</td>\n",
       "    </tr>\n",
       "    <tr>\n",
       "      <th>6</th>\n",
       "      <td>7</td>\n",
       "      <td>STAND_TO_SIT</td>\n",
       "    </tr>\n",
       "    <tr>\n",
       "      <th>7</th>\n",
       "      <td>8</td>\n",
       "      <td>SIT_TO_STAND</td>\n",
       "    </tr>\n",
       "    <tr>\n",
       "      <th>8</th>\n",
       "      <td>9</td>\n",
       "      <td>SIT_TO_LIE</td>\n",
       "    </tr>\n",
       "    <tr>\n",
       "      <th>9</th>\n",
       "      <td>10</td>\n",
       "      <td>LIE_TO_SIT</td>\n",
       "    </tr>\n",
       "    <tr>\n",
       "      <th>10</th>\n",
       "      <td>11</td>\n",
       "      <td>STAND_TO_LIE</td>\n",
       "    </tr>\n",
       "    <tr>\n",
       "      <th>11</th>\n",
       "      <td>12</td>\n",
       "      <td>LIE_TO_STAND</td>\n",
       "    </tr>\n",
       "  </tbody>\n",
       "</table>\n",
       "</div>"
      ],
      "text/plain": [
       "   Activity_id      Activity_label\n",
       "0            1             WALKING\n",
       "1            2    WALKING_UPSTAIRS\n",
       "2            3  WALKING_DOWNSTAIRS\n",
       "3            4             SITTING\n",
       "4            5            STANDING\n",
       "5            6              LAYING\n",
       "6            7        STAND_TO_SIT\n",
       "7            8        SIT_TO_STAND\n",
       "8            9          SIT_TO_LIE\n",
       "9           10          LIE_TO_SIT\n",
       "10          11        STAND_TO_LIE\n",
       "11          12        LIE_TO_STAND"
      ]
     },
     "execution_count": 3,
     "metadata": {},
     "output_type": "execute_result"
    }
   ],
   "source": [
    "# Load the accelerometer and gyroscope data.\n",
    "with open('./HAPT Data Set/features.txt') as f:\n",
    "    features = f.read().split()\n",
    "\n",
    "print('There are {} features.'.format(len(features)))\n",
    "    \n",
    "with open('./HAPT Data Set/activity_labels.txt') as f:\n",
    "    activity_labels = f.readlines()\n",
    "\n",
    "activity_df = [x.split() for x in activity_labels]\n",
    "print('There are {} activities.'.format(len(activity_df)))\n",
    "pd.DataFrame(activity_df, columns = ['Activity_id', 'Activity_label'])\n"
   ]
  },
  {
   "cell_type": "code",
   "execution_count": 4,
   "metadata": {},
   "outputs": [],
   "source": [
    "# Split the dataset into training, validation, and testing sets. (You can take example from ex 1 and 2.)\n",
    "X_train = pd.read_table('./HAPT Data Set/Train/X_train.txt',\n",
    "             header = None, sep = \" \", names = list(dict.fromkeys(features)))\n",
    "y_train = pd.read_table('./HAPT Data Set/Train/y_train.txt',\n",
    "             header = None, sep = \" \", names = ['Activity_id'])\n",
    "\n",
    "X_test = pd.read_table('./HAPT Data Set/Test/X_test.txt',\n",
    "             header = None, sep = \" \", names = list(dict.fromkeys(features)))\n",
    "y_test = pd.read_table('./HAPT Data Set/Test/y_test.txt',\n",
    "             header = None, sep = \" \", names = ['Activity_id'])\n",
    "\n",
    "# Note: Keras takes the classes from 0, i.e. if you have classes [1, 2, 3] (as in this case), it will give you an error.\n",
    "# To avoid the error, shift the class labels by -1, i.e. from [1, 2, 3] to [0, 1, 2]\n",
    "#activity_df[[\"Activity_id\"]] = activity_df[[\"Activity_id\"]].apply(pd.to_numeric) -1\n",
    "\n",
    "y_train = y_train -1\n",
    "y_test = y_test - 1             \n"
   ]
  },
  {
   "cell_type": "code",
   "execution_count": 39,
   "metadata": {},
   "outputs": [
    {
     "name": "stdout",
     "output_type": "stream",
     "text": [
      "Epoch 1/10\n",
      "243/243 [==============================] - 2s 5ms/step - loss: 0.5589 - accuracy: 0.8064\n",
      "Epoch 2/10\n",
      "243/243 [==============================] - 1s 4ms/step - loss: 0.2147 - accuracy: 0.9208\n",
      "Epoch 3/10\n",
      "243/243 [==============================] - 1s 5ms/step - loss: 0.1661 - accuracy: 0.9351\n",
      "Epoch 4/10\n",
      "243/243 [==============================] - 1s 4ms/step - loss: 0.1228 - accuracy: 0.9533\n",
      "Epoch 5/10\n",
      "243/243 [==============================] - 1s 4ms/step - loss: 0.1206 - accuracy: 0.9524\n",
      "Epoch 6/10\n",
      "243/243 [==============================] - 1s 5ms/step - loss: 0.1020 - accuracy: 0.9609\n",
      "Epoch 7/10\n",
      "243/243 [==============================] - 1s 5ms/step - loss: 0.1082 - accuracy: 0.9587\n",
      "Epoch 8/10\n",
      "243/243 [==============================] - 1s 5ms/step - loss: 0.0868 - accuracy: 0.9659\n",
      "Epoch 9/10\n",
      "243/243 [==============================] - 1s 5ms/step - loss: 0.0942 - accuracy: 0.9645\n",
      "Epoch 10/10\n",
      "243/243 [==============================] - 1s 5ms/step - loss: 0.0907 - accuracy: 0.9681\n"
     ]
    },
    {
     "data": {
      "text/plain": [
       "<keras.callbacks.History at 0x2306dbed3d0>"
      ]
     },
     "execution_count": 39,
     "metadata": {},
     "output_type": "execute_result"
    }
   ],
   "source": [
    "# Define batchsize and number of epochs\n",
    "#inputShape = (X_train.shape[1], -1)\n",
    "inputShape = X_train.shape[1]\n",
    "outputShape = len(activity_df)\n",
    "batchSize = 32\n",
    "epochs = 10\n",
    "\n",
    "# Declare the sequential model and design your multi-layer perceptron\n",
    "model = keras.Sequential(\n",
    "    [\n",
    "        layers.Dense(inputShape, activation = \"relu\"),\n",
    "        layers.Dense(64, activation = \"relu\"),\n",
    "        layers.Dense(32, activation = \"relu\"),\n",
    "        layers.Dense(12, activation = \"softmax\")\n",
    "    ]\n",
    ")\n",
    "\n",
    "# Compile your model\n",
    "model.build(input_shape=(1, inputShape))\n",
    "model.compile(\n",
    "    loss='sparse_categorical_crossentropy',\n",
    "    optimizer=keras.optimizers.Adam(),\n",
    "    metrics=['accuracy']\n",
    "    )\n",
    "# Train your model\n",
    "\n",
    "model.fit(X_train, y_train, batch_size= batchSize, epochs=epochs)"
   ]
  },
  {
   "cell_type": "code",
   "execution_count": 28,
   "metadata": {},
   "outputs": [
    {
     "name": "stdout",
     "output_type": "stream",
     "text": [
      "Model: \"sequential_4\"\n",
      "_________________________________________________________________\n",
      " Layer (type)                Output Shape              Param #   \n",
      "=================================================================\n",
      " dense_17 (Dense)            (1, 533)                  284622    \n",
      "                                                                 \n",
      " dense_18 (Dense)            (1, 64)                   34176     \n",
      "                                                                 \n",
      " dense_19 (Dense)            (1, 32)                   2080      \n",
      "                                                                 \n",
      " dense_20 (Dense)            (1, 12)                   396       \n",
      "                                                                 \n",
      "=================================================================\n",
      "Total params: 321,274\n",
      "Trainable params: 321,274\n",
      "Non-trainable params: 0\n",
      "_________________________________________________________________\n"
     ]
    }
   ],
   "source": [
    "# You can use model.summary() to get an overview of your model\n",
    "model.summary()\n",
    "\n"
   ]
  },
  {
   "cell_type": "code",
   "execution_count": 43,
   "metadata": {},
   "outputs": [
    {
     "name": "stdout",
     "output_type": "stream",
     "text": [
      "243/243 [==============================] - 1s 3ms/step - loss: 0.0894 - accuracy: 0.9647\n",
      "Train accuracy: 0.9647225737571716\n"
     ]
    }
   ],
   "source": [
    "# Evaluate your model\n",
    "\n",
    "score = model.evaluate(X_train, y_train)\n",
    "print('Train accuracy:', score[1])"
   ]
  },
  {
   "cell_type": "code",
   "execution_count": 44,
   "metadata": {},
   "outputs": [
    {
     "name": "stdout",
     "output_type": "stream",
     "text": [
      "INFO:tensorflow:Assets written to: ex3_model\\assets\n"
     ]
    }
   ],
   "source": [
    "# Save your model once you are satisfied with it\n",
    "\n",
    "model.save('ex3_model')"
   ]
  },
  {
   "cell_type": "code",
   "execution_count": 45,
   "metadata": {},
   "outputs": [
    {
     "name": "stdout",
     "output_type": "stream",
     "text": [
      "99/99 [==============================] - 0s 3ms/step - loss: 0.2701 - accuracy: 0.9051\n",
      "Test accuracy: 0.9051233530044556\n"
     ]
    }
   ],
   "source": [
    "# Load your saved model and test on the test data.\n",
    "model = keras.models.load_model('ex3_model')\n",
    "score = model.evaluate(X_test, y_test)\n",
    "\n",
    "print('Test accuracy:', score[1])"
   ]
  }
 ],
 "metadata": {
  "kernelspec": {
   "display_name": "Python 3 (ipykernel)",
   "language": "python",
   "name": "python3"
  },
  "language_info": {
   "codemirror_mode": {
    "name": "ipython",
    "version": 3
   },
   "file_extension": ".py",
   "mimetype": "text/x-python",
   "name": "python",
   "nbconvert_exporter": "python",
   "pygments_lexer": "ipython3",
   "version": "3.8.16"
  }
 },
 "nbformat": 4,
 "nbformat_minor": 2
}
