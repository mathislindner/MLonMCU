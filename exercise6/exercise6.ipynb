{
 "cells": [
  {
   "cell_type": "markdown",
   "metadata": {
    "id": "mDxvjs35_SWd"
   },
   "source": [
    "# **Tutorial on NEMO: NEural Minimizer for pytOrch**\n",
    "\n",
    "*Hanna Müller (ETHZ)*\n",
    "\n",
    "*Credits: Dr. Francesco Conti,  Lorenzo Lamberti, Leonardo Ravaglia, Marcello Zanghieri (University of Bologna)*"
   ]
  },
  {
   "cell_type": "markdown",
   "metadata": {
    "id": "TH8A3ArSIzOI"
   },
   "source": [
    "# **Setup** - Student Task 1\n",
    "Let us start by installing dependencies..."
   ]
  },
  {
   "cell_type": "code",
   "execution_count": null,
   "metadata": {
    "colab": {
     "base_uri": "https://localhost:8080/"
    },
    "id": "Nfj8089GgMZq",
    "outputId": "42bf6fcb-8947-4e25-db7c-fe69d3c1c73c"
   },
   "outputs": [],
   "source": [
    "#@title Install dependencies { form-width: \"20%\" }\n",
    "\n",
    "# these ones should already be available\n",
    "!pip install numpy\n",
    "!pip install tqdm\n",
    "!pip install pillow\n",
    "!pip install -q holoviews\n",
    "\n",
    "# recommended versions for this tutorial\n",
    "!pip install torch==1.5.0+cu101 -f https://download.pytorch.org/whl/torch_stable.html\n",
    "!pip install torchvision==0.6.0+cu101 -f https://download.pytorch.org/whl/torch_stable.html\n",
    "!pip install pytorch-nemo==0.0.8"
   ]
  },
  {
   "cell_type": "markdown",
   "metadata": {
    "id": "Zg7cIzwXiBq6"
   },
   "source": [
    "... and import all packages, including NEMO itself:"
   ]
  },
  {
   "cell_type": "code",
   "execution_count": null,
   "metadata": {
    "colab": {
     "base_uri": "https://localhost:8080/",
     "height": 0
    },
    "id": "HLlnWjXhg17X",
    "outputId": "739a44f0-b1e3-4282-8eae-d0a681201be4"
   },
   "outputs": [],
   "source": [
    "#@title Imports { form-width: \"25%\" }\n",
    "\n",
    "#basic\n",
    "import numpy as np\n",
    "from pandas import DataFrame\n",
    "from copy import deepcopy\n",
    "from tqdm import tqdm\n",
    "\n",
    "#plotting\n",
    "import matplotlib.pyplot as plt\n",
    "import holoviews as hv\n",
    "hv.notebook_extension('bokeh')\n",
    "from holoviews import opts\n",
    "from bokeh.models import HoverTool\n",
    "from bokeh.plotting import show\n",
    "\n",
    "\n",
    "#torch\n",
    "import torch; print('\\nPyTorch version in use:', torch.__version__, '\\ncuda avail: ', torch.cuda.is_available())\n",
    "import torch.nn as nn\n",
    "import torch.nn.functional as F\n",
    "import torch.optim as optim\n",
    "from torchvision import datasets, transforms\n",
    "\n",
    "#nemo!\n",
    "import nemo"
   ]
  },
  {
   "cell_type": "code",
   "execution_count": null,
   "metadata": {
    "colab": {
     "base_uri": "https://localhost:8080/"
    },
    "id": "WY59unFq40v7",
    "outputId": "8f90ed3a-bed6-4e70-d69e-d7e7f4e50f45"
   },
   "outputs": [],
   "source": [
    "#@title Set device\n",
    "device = torch.device('cuda' if torch.cuda.is_available() else 'cpu')\n",
    "print('Device: %s' % device)"
   ]
  },
  {
   "cell_type": "code",
   "execution_count": null,
   "metadata": {
    "id": "s11ciz67kuNh"
   },
   "outputs": [],
   "source": [
    "class ExampleNet(nn.Module):\n",
    "    def __init__(self):\n",
    "        super(ExampleNet, self).__init__()\n",
    "        \n",
    "        self.conv1 = nn.Conv2d(1, 4, 3, padding=1, bias=False)\n",
    "        self.bn1   = nn.BatchNorm2d(4)\n",
    "        self.relu1 = nn.ReLU() # <== Module, not Function!\n",
    "\n",
    "        self.conv2 = nn.Conv2d(4, 20, 3, padding=1, stride=2, bias=False)\n",
    "        self.bn2   = nn.BatchNorm2d(20)\n",
    "        self.relu2 = nn.ReLU() # <== Module, not Function!\n",
    "\n",
    "        self.conv3 = nn.Conv2d(20, 40, 3, padding=1, stride=2, bias=False)\n",
    "        self.bn3   = nn.BatchNorm2d(40)\n",
    "        self.relu3 = nn.ReLU() # <== Module, not Function!\n",
    "\n",
    "        self.conv4 = nn.Conv2d(40, 80, 3, padding=1, stride=2, bias=False)\n",
    "        self.bn4   = nn.BatchNorm2d(80)\n",
    "        self.relu4 = nn.ReLU() # <== Module, not Function!\n",
    "        \n",
    "        self.fc1 = nn.Linear(80 * 4**2, 500, bias=False)\n",
    "        self.fcrelu1 = nn.ReLU() # <== Module, not Function!\n",
    "        self.fc2 = nn.Linear(500, 10, bias=False)\n",
    "\n",
    "    def forward(self, x):\n",
    "        x = self.relu1(self.bn1(self.conv1(x)))\n",
    "        x = self.relu2(self.bn2(self.conv2(x)))\n",
    "        x = self.relu3(self.bn3(self.conv3(x)))\n",
    "        x = self.relu4(self.bn4(self.conv4(x)))\n",
    "        x = x.flatten(1)\n",
    "        x = self.fcrelu1(self.fc1(x))\n",
    "        x = self.fc2(x)\n",
    "        output = F.log_softmax(x, dim=1) # <== the softmax operation does not need to be quantized, we can keep it as it is\n",
    "        return output"
   ]
  },
  {
   "cell_type": "markdown",
   "metadata": {
    "id": "IrPQVjWGyrMA"
   },
   "source": [
    "Let's define a couple of useful functions to measure the model size (`Kb`) and number of parameters."
   ]
  },
  {
   "cell_type": "code",
   "execution_count": null,
   "metadata": {
    "colab": {
     "base_uri": "https://localhost:8080/"
    },
    "id": "LfGQcZtYyoT6",
    "outputId": "dfa56402-044f-43fd-c3b2-3b35207dd668"
   },
   "outputs": [],
   "source": [
    "import pprint\n",
    "\n",
    "#@title Model Summary\n",
    "def print_summary(model):\n",
    "    summary = nemo.utils.get_summary(model, (1, 28, 28),verbose=True)\n",
    "    pprint.pprint(summary['dict'], sort_dicts=False)\n",
    "\n",
    "def network_size(model):\n",
    "    summary = nemo.utils.get_summary(model, (1, 28, 28),verbose=True)\n",
    "    params_size = 0\n",
    "    for layer_name, layer_info in summary['dict'].items():\n",
    "        try:\n",
    "            params_size += abs(layer_info[\"nb_params\"]  * layer_info[\"W_bits\"] / 8. / (1024.))\n",
    "        except KeyError:\n",
    "            params_size += abs(layer_info[\"nb_params\"] * 32. / 8. / (1024.))\n",
    "    return int(params_size)\n",
    "\n",
    "print(\"Full precision model statistics: \\n\")\n",
    "model = ExampleNet().to(device)\n",
    "print_summary(model)\n",
    "print(\"Just network size: %.2fkB\" % network_size(model))\n"
   ]
  },
  {
   "cell_type": "markdown",
   "metadata": {
    "id": "hx5QEAlzqOgF"
   },
   "source": [
    "Then we define a function for validation."
   ]
  },
  {
   "cell_type": "code",
   "execution_count": null,
   "metadata": {
    "id": "7KCbZi6sqsQt"
   },
   "outputs": [],
   "source": [
    "#@title Define Metrics and validation function\n",
    "# convenience class to keep track of averages\n",
    "class Metric(object):\n",
    "    def __init__(self, name):\n",
    "        self.name = name\n",
    "        self.sum  = 0\n",
    "        self.n    = 0\n",
    "    def update(self, value):\n",
    "        self.sum += value\n",
    "        self.n += 1\n",
    "    @property\n",
    "    def avg(self):\n",
    "        return self.sum / self.n\n",
    "\n",
    "\n",
    "def validate(model, device, dataloader, verbose=True, integer=False):\n",
    "    model.eval()\n",
    "    loss    = 0\n",
    "    correct = 0\n",
    "    acc     = Metric('test_acc')\n",
    "    with tqdm(\n",
    "        total=len(dataloader), desc='Validation', disable=not verbose,\n",
    "        ) as t:\n",
    "        with torch.no_grad():\n",
    "            for data, target in dataloader:\n",
    "                if integer:      # support for production of\n",
    "                    data *= 255  # non-negative integer data\n",
    "                data, target = data.to(device), target.to(device)\n",
    "                output = model(data)\n",
    "                loss += F.nll_loss(output, target, reduction='sum').item() # sum up batch loss\n",
    "                pred = output.argmax(dim=1) # get index of largest log-probability\n",
    "                correct += pred.eq(target).sum().item()\n",
    "                acc.update(pred.eq(target).float().mean().item())\n",
    "                t.set_postfix({'acc': acc.avg})\n",
    "                t.update(1)\n",
    "    loss /= len(dataloader.dataset)\n",
    "    return acc.avg"
   ]
  },
  {
   "cell_type": "markdown",
   "metadata": {
    "id": "btE-clDsmWAC"
   },
   "source": [
    "Set up the dataloaders:\n",
    "* a *calibration loader*, which loads a subset (for speed) of MNIST training set;\n",
    "* a *validation loader*, which loads MNIST's \"test\" set (actually, a validation set)."
   ]
  },
  {
   "cell_type": "code",
   "execution_count": null,
   "metadata": {
    "colab": {
     "base_uri": "https://localhost:8080/",
     "height": 0,
     "referenced_widgets": [
      "e30e67686ecc4f7bbb1eb9e59d883edc",
      "12776c8934b94d82a4b62ae2ac958f2a",
      "0fb7c10608464a4f8f98de6c08f23695",
      "04f39d85ef914506afba686773ff6552",
      "7b4fe3383d784957a8ee3ec177a3c37c",
      "71ec2ab9f883447f989f06d5bf617dac",
      "436eaf6820e94e4a9a46db170fe7b512",
      "ef3bec10c6984909860c6c750515629e",
      "d0ae9af39dfd42259b947879cdeacb94",
      "d18562f5524f40a0b4afd536a5947bd5",
      "9caa426494d5415f83962ae9e3cbf0aa",
      "daef258daa4d421c9c3de074fccfa3ee",
      "568efdcf3dae4aa5933703b33beea3c6",
      "e12e2ea3992440a9945a21dac2e92451",
      "478a79313cd84555922590670687f0ee",
      "11695a6c6e734ac698c846a5e1454b6c",
      "b819c9f4b5894921ae0b860f04492475",
      "f5d911af83cf4b3c8e3e2a3c70cbc963",
      "6d2e484617384f379374cad7b392e1bc",
      "7b672097ea5e48e2be28c48e54af41b7",
      "36c627d5d6044a358ede80e5c20a0810",
      "c43df9bd02504c3c83b9a46cc6db4437",
      "17662a969b104381b9fd4fea18c247d8",
      "806edeee5bf14fc7ba6b9e884bbff424",
      "62231147530f4e78a76fb186fb8df845",
      "33d3e7551e7f4f1db9bf2392eb97b5fd",
      "46acf6f3ec904e1c8a4b6287bff90b8a",
      "e7be428874414f28865ba21aa26f28c5",
      "62e819c18b004dabb144e7c38e57de20",
      "92a89d59b07348c78efe9362fe2a7f76",
      "ddf1a1155afa41a2bf59f675cd06995e",
      "d0d7de6c1fc4428c8cb725a88ae6b188"
     ]
    },
    "id": "jzurRm4TqtKp",
    "outputId": "818096ca-37ca-433b-9b8b-c83fa5c6b320"
   },
   "outputs": [],
   "source": [
    "# calibration set\n",
    "Mcalib = 1024 # calibration set size\n",
    "train_set = datasets.MNIST('./data/', train=True , download=True, transform=transforms.ToTensor())\n",
    "calib_set = torch.utils.data.Subset(train_set, indices=np.random.permutation(len(train_set))[:Mcalib])\n",
    "del train_set # we load a pretrained model, we won't train it in this script. Just needed for calibration!\n",
    "\n",
    "# validation set\n",
    "valid_set = datasets.MNIST('./data/', train=False, download=True, transform=transforms.ToTensor())\n",
    "\n",
    "\n",
    "# set up the dataloaders\n",
    "kwargs = {'num_workers': 1, 'pin_memory': True} if torch.cuda.is_available() else {}\n",
    "calib_loader = torch.utils.data.DataLoader(calib_set, batch_size=128, shuffle=False, drop_last=True, **kwargs)\n",
    "valid_loader = torch.utils.data.DataLoader(valid_set, batch_size=128, shuffle=False, drop_last=True, **kwargs)"
   ]
  },
  {
   "cell_type": "markdown",
   "metadata": {
    "id": "HJLytqjxCB_5"
   },
   "source": [
    "# **FullPrecision (FP) stage** - Student Task 2\n",
    "\n",
    "Download a pretrained model, and test it! Here we operate at what we call the ***FullPrecision* (FP)** stage: the regular PyTorch representation, which relies on real-valued tensors represented by `float32` in your CPU/GPU."
   ]
  },
  {
   "cell_type": "code",
   "execution_count": null,
   "metadata": {
    "colab": {
     "base_uri": "https://localhost:8080/"
    },
    "id": "nQabIE9Guyrh",
    "outputId": "7b181877-457b-4e16-ad8a-f94d592346ea"
   },
   "outputs": [],
   "source": [
    "!mkdir ./content/\n",
    "%cd ./content/\n",
    "!rm -rf examplenet.pt\n",
    "!wget https://github.com/MarcelloZanghieri2/NeMO_tutorial/blob/main/smallernet_4.pt?raw=true\n",
    "!md5sum smallernet_4.pt?raw=true\n",
    "!mv smallernet_4.pt?raw=true examplenet.pt\n",
    "\n",
    "model = ExampleNet().to(device)\n",
    "state_dict = torch.load('examplenet.pt', map_location='cpu')\n",
    "model.load_state_dict(state_dict, strict=True)\n",
    "\n",
    "acc = validate(model, device, valid_loader)\n",
    "model_size = network_size(model)\n",
    "print(\"\\n\\nFullPrecision accuracy: %.3f, model size: %.2fkB\" % (acc, model_size))"
   ]
  },
  {
   "cell_type": "markdown",
   "metadata": {
    "id": "eZ6mwBDKFSeB"
   },
   "source": [
    "# **FakeQuantized (FQ) stage** - Student Task 3\n",
    "\n"
   ]
  },
  {
   "cell_type": "code",
   "execution_count": null,
   "metadata": {
    "colab": {
     "base_uri": "https://localhost:8080/"
    },
    "id": "ljBmXEvHy-U4",
    "outputId": "bc962840-fd33-4712-8559-bb4afab76d19"
   },
   "outputs": [],
   "source": [
    "#@title Set N-bit Quantization { run: \"auto\", form-width: \"20%\", display-mode: \"both\" }\n",
    "\n",
    "Q =  16#@param {type:\"integer\"}\n",
    "\n",
    "model_q = nemo.transform.quantize_pact(deepcopy(model), dummy_input=torch.randn((1, 1, 28, 28)).to(device))\n",
    "model_q.change_precision(bits=Q, scale_weights=True, scale_activations=True)\n",
    "with model_q.statistics_act():\n",
    "    validate(model_q, device, calib_loader)\n",
    "model_q.reset_alpha_act()\n",
    "acc = validate(model_q, device, valid_loader)\n",
    "model_size = network_size(model_q)\n",
    "print(\"\\nFakeQuantized @ %db: accuracy: %.3f, model_size %dkB\" % (Q, acc, model_size))"
   ]
  },
  {
   "cell_type": "markdown",
   "metadata": {
    "id": "gCrWRJ2U5nHh"
   },
   "source": [
    "## **Explore model accuracy vs bitwidth Q** - Student Task 4\n"
   ]
  },
  {
   "cell_type": "markdown",
   "metadata": {
    "id": "Ni0AzaePw-Zq"
   },
   "source": [
    "### Hints and plotting function\n"
   ]
  },
  {
   "cell_type": "code",
   "execution_count": null,
   "metadata": {
    "colab": {
     "base_uri": "https://localhost:8080/",
     "height": 135
    },
    "id": "C3ZgKoJg3YNA",
    "outputId": "428f390e-d7aa-4db9-f546-800a00dc17ec"
   },
   "outputs": [],
   "source": [
    "Qmin, Qmax = 0, 16\n",
    "q_values = np.arange(Qmin, 1 + Qmax)\n",
    "acc_array = []\n",
    "model_size_array = []\n",
    "\n",
    "\n",
    "for Q in q_values:\n",
    "    # TODO\n",
    "acc_array = np.array(acc_array)"
   ]
  },
  {
   "cell_type": "code",
   "execution_count": null,
   "metadata": {
    "colab": {
     "base_uri": "https://localhost:8080/",
     "height": 261
    },
    "id": "xLDG-UsDu5p0",
    "outputId": "5ddffe91-f30b-44fc-927a-f4eb2af34f59"
   },
   "outputs": [],
   "source": [
    "#@title Plot with Holoviews and Bokeh { form-width: \"10%\" }\n",
    "\n",
    "# default options to apply to your plots\n",
    "opts.defaults(opts.Scatter(width=1000, height=500, show_grid=True,tools=['hover'], size=8, marker='circle'), opts.Curve(width=1000, height=500, tools=[], show_grid=True) )\n",
    "\n",
    "# first store your data in a Pandas DataFrame  (define dataframe keys, and the corresponding values)\n",
    "source = DataFrame({ 'q_values' : q_values,\n",
    "                     'acc_array' : acc_array,\n",
    "                     'err_rate' : 1- acc_array,\n",
    "                     'model_size_array' : model_size_array})\n",
    "\n",
    "# Define which data you want to be able to hover and get information on in the form of (text label, \"@pandas_dataframe_key_name)\n",
    "hover = HoverTool(tooltips=[(\"q_values\", \"@q_values\"), (\"acc_array Rate\", \"@acc_array\"), (\"model_size_array\", \"@model_size_array\"), (\"err_rate\", \"@err_rate\")])\n",
    "\n",
    "#accuracy\n",
    "acc_points = hv.Scatter(source, kdims=['q_values', 'acc_array'])\n",
    "acc_points.opts( title='Accuracy and error-rate VS bitwidth', tools=[hover], xlim=(Qmin, Qmax), ylim=(0, 1), xlabel='Q (adim.)', ylabel='Accuracy (%)')\n",
    "acc_curve = hv.Curve(acc_array,  label='accuracy')\n",
    "fig = hv.render(acc_points*acc_curve)\n",
    "\n",
    "#err rate\n",
    "err_rate_points = hv.Scatter(source, kdims=['q_values', 'err_rate'])\n",
    "err_rate_points.opts(xlim=(Qmin, Qmax), ylim=(0, 1), xlabel='Q (adim.)', ylabel='Err-Rate (%)', color='red')\n",
    "err_rate_curve = hv.Curve(1-acc_array, label='err-rate')\n",
    "err_rate_curve.opts(color='red')\n",
    "\n",
    "#render\n",
    "fig = hv.render(acc_points*acc_curve*err_rate_points*err_rate_curve)\n",
    "show(fig)\n",
    "\n",
    "\n",
    "# model size\n",
    "model_size_points = hv.Scatter(source, kdims=['q_values', 'model_size_array'])\n",
    "model_size_points.opts(xlim=(Qmin, Qmax), xlabel='Q (adim.)', ylabel='model size [kB]', color='green')\n",
    "model_size_curve = hv.Curve(model_size_array, label='model size [kB]')\n",
    "model_size_curve.opts(color='green')\n",
    "\n",
    "fig = hv.render(model_size_points*model_size_curve)\n",
    "show(fig)"
   ]
  },
  {
   "cell_type": "markdown",
   "metadata": {
    "id": "8GJuxF99qX9H"
   },
   "source": [
    "## **Mixed-Precision: non-uniform layer-wise quantization and precision dictionaries** - Student Task 5\n",
    "\n"
   ]
  },
  {
   "cell_type": "code",
   "execution_count": null,
   "metadata": {
    "colab": {
     "base_uri": "https://localhost:8080/"
    },
    "id": "z2zngxOT6CxN",
    "outputId": "34cf477a-1e82-401f-b331-a1f27080dc54"
   },
   "outputs": [],
   "source": [
    "precision = {\n",
    "    'conv1': {\n",
    "        'W_bits' : #TODO\n",
    "    },\n",
    "    'relu1': {\n",
    "        'x_bits' : #TODO\n",
    "    },\n",
    "    'conv2': {\n",
    "        'W_bits' : #TODO\n",
    "    },\n",
    "    'relu2': {\n",
    "        'x_bits' : #TODO\n",
    "    },\n",
    "    'conv3': {\n",
    "        'W_bits' : #TODO\n",
    "    },\n",
    "    'relu3': {\n",
    "        'x_bits' : #TODO\n",
    "    },\n",
    "    'conv4': {\n",
    "        'W_bits' : #TODO\n",
    "    },\n",
    "    'relu4': {\n",
    "        'x_bits' : #TODO\n",
    "    },\n",
    "    'fc1': {\n",
    "        'W_bits' : #TODO\n",
    "    },\n",
    "    'fcrelu1': {\n",
    "        'x_bits' : #TODO\n",
    "    },\n",
    "    'fc2': {\n",
    "        'W_bits' : #TODO\n",
    "    },\n",
    "}\n",
    "\n",
    "model_q = nemo.transform.quantize_pact(deepcopy(model), dummy_input=torch.randn((1, 1, 28, 28)).to(device))\n",
    "model_q.change_precision(bits=1, min_prec_dict=precision)\n",
    "with model_q.statistics_act():\n",
    "    _ = validate(model_q, device, valid_loader) # blank validation is needed for calibrating\n",
    "model_q.reset_alpha_act()\n",
    "acc = validate(model_q, device, valid_loader)\n",
    "model_size = network_size(model_q)\n",
    "print(\"\\nFakeQuantized @ mixed-precision: accuracy: %.2f%%  model_size: %dkB\" % (acc, model_size))"
   ]
  },
  {
   "cell_type": "markdown",
   "metadata": {
    "id": "5jqR5TSnz8TJ"
   },
   "source": [
    "---\n",
    "\n",
    "## **Quantization for DORY: 8-bit** -- Student Task 6\n"
   ]
  },
  {
   "cell_type": "code",
   "execution_count": null,
   "metadata": {
    "id": "aw7_0tqezS9p"
   },
   "outputs": [],
   "source": [
    "#@title Define precision dict for dory format: it supports just 8-bit quantization\n",
    "\n",
    "precision_dict_for_dory = {\n",
    "    'conv1': {\n",
    "        'W_bits' : #TODO\n",
    "    },\n",
    "    'relu1': {\n",
    "        'x_bits' : #TODO\n",
    "    },\n",
    "    'conv2': {\n",
    "        'W_bits' : #TODO\n",
    "    },\n",
    "    'relu2': {\n",
    "        'x_bits' : #TODO\n",
    "    },\n",
    "    'conv3': {\n",
    "        'W_bits' : #TODO\n",
    "    },\n",
    "    'relu3': {\n",
    "        'x_bits' : #TODO\n",
    "    },\n",
    "    'conv4': {\n",
    "        'W_bits' : #TODO\n",
    "    },\n",
    "    'relu4': {\n",
    "        'x_bits' : #TODO\n",
    "    },\n",
    "    'fc1': {\n",
    "        'W_bits' : #TODO\n",
    "    },\n",
    "    'fcrelu1': {\n",
    "        'x_bits' : #TODO\n",
    "    },\n",
    "    'fc2': {\n",
    "        'W_bits' : #TODO\n",
    "    },\n",
    "}"
   ]
  },
  {
   "cell_type": "code",
   "execution_count": null,
   "metadata": {
    "colab": {
     "base_uri": "https://localhost:8080/"
    },
    "id": "_6HSHm2U7uxJ",
    "outputId": "2fb22263-deb3-4f08-ecf9-30ff6f7e7ba5"
   },
   "outputs": [],
   "source": [
    "model_q = nemo.transform.quantize_pact(deepcopy(model), dummy_input=torch.randn((1, 1, 28, 28)).to(device))\n",
    "model_q.change_precision(bits=1, min_prec_dict=precision_dict_for_dory, scale_weights=True, scale_activations=True)\n",
    "with model_q.statistics_act():\n",
    "    validate(model_q, device, calib_loader)\n",
    "model_q.reset_alpha_act()\n",
    "acc = validate(model_q, device, valid_loader)\n",
    "print(\"\\nFakeQuantized accuracy: %.3f\\n\\n\" % acc)"
   ]
  },
  {
   "cell_type": "markdown",
   "metadata": {
    "id": "xelcF1jxkAit"
   },
   "source": [
    "# **QuantizedDeployable (QD) stage** - Student Task 7\n"
   ]
  },
  {
   "cell_type": "code",
   "execution_count": null,
   "metadata": {
    "id": "jTaoBWWSkicx"
   },
   "outputs": [],
   "source": [
    "model_q.qd_stage(eps_in=1./255)                  # eps_in is the input quantum, and must be set by the user\n",
    "print('\\n\\n', model_q, '\\n')\n",
    "acc = validate(model_q, device, valid_loader)\n",
    "print(\"\\nQuantizedDeployable accuracy: %.3f\" % acc)"
   ]
  },
  {
   "cell_type": "markdown",
   "metadata": {
    "id": "sa5QQA5t5YMA"
   },
   "source": [
    "We can look inside our model and parameters by using the following methods:"
   ]
  },
  {
   "cell_type": "markdown",
   "metadata": {
    "id": "yAC6n2mB1upD"
   },
   "source": [
    "### ***Debug Hooks: methods to print activations, epsilon values and weights***"
   ]
  },
  {
   "cell_type": "code",
   "execution_count": null,
   "metadata": {
    "colab": {
     "base_uri": "https://localhost:8080/",
     "height": 189
    },
    "id": "ssewGoNfr5Ah",
    "outputId": "50ac2356-68ff-442d-ba84-3faaf6dc3d01"
   },
   "outputs": [],
   "source": [
    "buf_in, buf_out, _ = nemo.utils.get_intermediate_activations(model_q, validate, model_q, device, valid_loader)\n",
    "print('\\n\\n', buf_in.keys(), '\\n', buf_out.keys())"
   ]
  },
  {
   "cell_type": "code",
   "execution_count": null,
   "metadata": {
    "colab": {
     "base_uri": "https://localhost:8080/",
     "height": 225
    },
    "id": "hwqot31TwPcy",
    "outputId": "b40675be-5612-442f-b956-9c16cf84e01d"
   },
   "outputs": [],
   "source": [
    "eps = nemo.utils.get_intermediate_eps(model_q, 1./255)\n",
    "eps['conv1'] = torch.tensor([1./255], device=device)\n",
    "for k in eps:\n",
    "    print(k, '\\t', eps[k])"
   ]
  },
  {
   "cell_type": "code",
   "execution_count": null,
   "metadata": {
    "colab": {
     "base_uri": "https://localhost:8080/",
     "height": 207
    },
    "id": "zHiu_QEOy01M",
    "outputId": "e389ec5c-2728-4b3f-f21c-56663f714b59"
   },
   "outputs": [],
   "source": [
    "for name, param in model_q.named_parameters():\n",
    "    if param.requires_grad:\n",
    "        print(name, param)"
   ]
  },
  {
   "cell_type": "code",
   "execution_count": null,
   "metadata": {
    "id": "aA-oiLhg4Ew9"
   },
   "outputs": [],
   "source": [
    "print(buf_out)"
   ]
  },
  {
   "cell_type": "code",
   "execution_count": null,
   "metadata": {
    "id": "2NICcapRsepK"
   },
   "outputs": [],
   "source": [
    "bi = nemo.utils.get_integer_activations(buf_in, eps)\n",
    "bo = nemo.utils.get_integer_activations(buf_out, eps)"
   ]
  },
  {
   "cell_type": "markdown",
   "metadata": {
    "id": "etcJjFrM1pn2"
   },
   "source": [
    "# **IntegerDeployable (ID) stage** - Student Task 8"
   ]
  },
  {
   "cell_type": "markdown",
   "metadata": {
    "id": "VVOHBvuPCoU5"
   },
   "source": [
    "ONNX export"
   ]
  },
  {
   "cell_type": "code",
   "execution_count": null,
   "metadata": {
    "id": "7oXssgNYChKG"
   },
   "outputs": [],
   "source": [
    "model_q.id_stage()\n",
    "\n",
    "# ONNX Export\n",
    "\n",
    "nemo.utils.export_onnx('mnist_id_4dory.onnx', model_q, model_q, (1, 28, 28))\n",
    "from IPython.display import IFrame \n",
    "from IPython.display import FileLink \n",
    "import urllib\n",
    "display(FileLink('mnist_id_4dory.onnx'))\n",
    "url = urllib.parse.quote(\"https://lutzroeder.github.io/netron\", safe=':/?=&')\n",
    "IFrame(url, width=800, height=400)"
   ]
  },
  {
   "cell_type": "markdown",
   "metadata": {
    "id": "dB2DsCPlCt8w"
   },
   "source": [
    "Intermediate activations export"
   ]
  },
  {
   "cell_type": "code",
   "execution_count": null,
   "metadata": {
    "id": "YzKmV-BdCiUl"
   },
   "outputs": [],
   "source": [
    "# Activation buffers\n",
    "buf_in, buf_out, _ = nemo.utils.get_intermediate_activations(model_q, validate, model_q, device, valid_loader, integer=True)\n",
    "\n",
    "%cd ./content\n",
    "\n",
    "# Save the input (one MNIST image - we pick the last one), not included in the buffer\n",
    "t = buf_in['conv1'][0][-1].cpu().detach().numpy()\n",
    "np.savetxt('input.txt', t.flatten(), '%.3f', newline=',\\\\\\n', header = 'input (shape %s)' % str(list(t.shape)))\n",
    "display(FileLink('input.txt'))\n",
    "\n",
    "# Save the outputs\n",
    "names = ['relu1', 'relu2', 'relu3', 'relu4', 'fcrelu1', 'fc2']\n",
    "L = len(names)\n",
    "for l in range(L):\n",
    "    t = np.moveaxis(buf_out[names[l]][-1].cpu().detach().numpy(), 0, -1)\n",
    "    np.savetxt('out_layer%d.txt' % l, t.flatten(), '%.3f', newline=',\\\\\\n', header = names[l] + ' (shape %s)' % str(list(t.shape)))\n",
    "    display(FileLink('out_layer%d.txt' % l))"
   ]
  },
  {
   "cell_type": "markdown",
   "metadata": {
    "id": "m7WA-1FQ3HBB"
   },
   "source": [
    "### *Debug Hooks: methods to print activations, epsilon values and weights*"
   ]
  },
  {
   "cell_type": "code",
   "execution_count": null,
   "metadata": {
    "colab": {
     "base_uri": "https://localhost:8080/"
    },
    "id": "fGNcOjusvMQ4",
    "outputId": "578ee598-4684-4cdd-f6dc-ff41ef57d3b9"
   },
   "outputs": [],
   "source": [
    "nemo.utils.get_intermediate_activations(model_q, validate, model_q, device, valid_loader, integer=True)"
   ]
  },
  {
   "cell_type": "code",
   "execution_count": null,
   "metadata": {
    "colab": {
     "base_uri": "https://localhost:8080/"
    },
    "id": "Hx85YQdxwDGh",
    "outputId": "9eeb2527-9a17-4c60-c32c-2b8b13df7f9a"
   },
   "outputs": [],
   "source": [
    "nemo.utils.get_intermediate_eps(model_q, 1./255)"
   ]
  },
  {
   "cell_type": "code",
   "execution_count": null,
   "metadata": {
    "colab": {
     "base_uri": "https://localhost:8080/"
    },
    "id": "DPAxITy1yjfO",
    "outputId": "ba52127a-2381-4e53-8d8c-8fa8a893aa31"
   },
   "outputs": [],
   "source": [
    "for name, param in model_q.named_parameters():\n",
    "    if param.requires_grad:\n",
    "        print(name, param)"
   ]
  },
  {
   "cell_type": "code",
   "execution_count": null,
   "metadata": {
    "id": "vvz-zp1t8npU"
   },
   "outputs": [],
   "source": []
  }
 ],
 "metadata": {
  "accelerator": "GPU",
  "colab": {
   "collapsed_sections": [],
   "name": "MLonMCU_Lab4_HS2020 ",
   "provenance": [],
   "toc_visible": true
  },
  "kernelspec": {
   "display_name": "Python 3",
   "language": "python",
   "name": "python3"
  },
  "language_info": {
   "codemirror_mode": {
    "name": "ipython",
    "version": 3
   },
   "file_extension": ".py",
   "mimetype": "text/x-python",
   "name": "python",
   "nbconvert_exporter": "python",
   "pygments_lexer": "ipython3",
   "version": "3.8.10"
  },
  "widgets": {
   "application/vnd.jupyter.widget-state+json": {
    "04f39d85ef914506afba686773ff6552": {
     "model_module": "@jupyter-widgets/controls",
     "model_name": "HTMLModel",
     "state": {
      "_dom_classes": [],
      "_model_module": "@jupyter-widgets/controls",
      "_model_module_version": "1.5.0",
      "_model_name": "HTMLModel",
      "_view_count": null,
      "_view_module": "@jupyter-widgets/controls",
      "_view_module_version": "1.5.0",
      "_view_name": "HTMLView",
      "description": "",
      "description_tooltip": null,
      "layout": "IPY_MODEL_ef3bec10c6984909860c6c750515629e",
      "placeholder": "​",
      "style": "IPY_MODEL_436eaf6820e94e4a9a46db170fe7b512",
      "value": " 9920512/? [00:01&lt;00:00, 6834916.09it/s]"
     }
    },
    "0fb7c10608464a4f8f98de6c08f23695": {
     "model_module": "@jupyter-widgets/controls",
     "model_name": "FloatProgressModel",
     "state": {
      "_dom_classes": [],
      "_model_module": "@jupyter-widgets/controls",
      "_model_module_version": "1.5.0",
      "_model_name": "FloatProgressModel",
      "_view_count": null,
      "_view_module": "@jupyter-widgets/controls",
      "_view_module_version": "1.5.0",
      "_view_name": "ProgressView",
      "bar_style": "success",
      "description": "",
      "description_tooltip": null,
      "layout": "IPY_MODEL_71ec2ab9f883447f989f06d5bf617dac",
      "max": 1,
      "min": 0,
      "orientation": "horizontal",
      "style": "IPY_MODEL_7b4fe3383d784957a8ee3ec177a3c37c",
      "value": 1
     }
    },
    "11695a6c6e734ac698c846a5e1454b6c": {
     "model_module": "@jupyter-widgets/base",
     "model_name": "LayoutModel",
     "state": {
      "_model_module": "@jupyter-widgets/base",
      "_model_module_version": "1.2.0",
      "_model_name": "LayoutModel",
      "_view_count": null,
      "_view_module": "@jupyter-widgets/base",
      "_view_module_version": "1.2.0",
      "_view_name": "LayoutView",
      "align_content": null,
      "align_items": null,
      "align_self": null,
      "border": null,
      "bottom": null,
      "display": null,
      "flex": null,
      "flex_flow": null,
      "grid_area": null,
      "grid_auto_columns": null,
      "grid_auto_flow": null,
      "grid_auto_rows": null,
      "grid_column": null,
      "grid_gap": null,
      "grid_row": null,
      "grid_template_areas": null,
      "grid_template_columns": null,
      "grid_template_rows": null,
      "height": null,
      "justify_content": null,
      "justify_items": null,
      "left": null,
      "margin": null,
      "max_height": null,
      "max_width": null,
      "min_height": null,
      "min_width": null,
      "object_fit": null,
      "object_position": null,
      "order": null,
      "overflow": null,
      "overflow_x": null,
      "overflow_y": null,
      "padding": null,
      "right": null,
      "top": null,
      "visibility": null,
      "width": null
     }
    },
    "12776c8934b94d82a4b62ae2ac958f2a": {
     "model_module": "@jupyter-widgets/base",
     "model_name": "LayoutModel",
     "state": {
      "_model_module": "@jupyter-widgets/base",
      "_model_module_version": "1.2.0",
      "_model_name": "LayoutModel",
      "_view_count": null,
      "_view_module": "@jupyter-widgets/base",
      "_view_module_version": "1.2.0",
      "_view_name": "LayoutView",
      "align_content": null,
      "align_items": null,
      "align_self": null,
      "border": null,
      "bottom": null,
      "display": null,
      "flex": null,
      "flex_flow": null,
      "grid_area": null,
      "grid_auto_columns": null,
      "grid_auto_flow": null,
      "grid_auto_rows": null,
      "grid_column": null,
      "grid_gap": null,
      "grid_row": null,
      "grid_template_areas": null,
      "grid_template_columns": null,
      "grid_template_rows": null,
      "height": null,
      "justify_content": null,
      "justify_items": null,
      "left": null,
      "margin": null,
      "max_height": null,
      "max_width": null,
      "min_height": null,
      "min_width": null,
      "object_fit": null,
      "object_position": null,
      "order": null,
      "overflow": null,
      "overflow_x": null,
      "overflow_y": null,
      "padding": null,
      "right": null,
      "top": null,
      "visibility": null,
      "width": null
     }
    },
    "17662a969b104381b9fd4fea18c247d8": {
     "model_module": "@jupyter-widgets/controls",
     "model_name": "DescriptionStyleModel",
     "state": {
      "_model_module": "@jupyter-widgets/controls",
      "_model_module_version": "1.5.0",
      "_model_name": "DescriptionStyleModel",
      "_view_count": null,
      "_view_module": "@jupyter-widgets/base",
      "_view_module_version": "1.2.0",
      "_view_name": "StyleView",
      "description_width": ""
     }
    },
    "33d3e7551e7f4f1db9bf2392eb97b5fd": {
     "model_module": "@jupyter-widgets/base",
     "model_name": "LayoutModel",
     "state": {
      "_model_module": "@jupyter-widgets/base",
      "_model_module_version": "1.2.0",
      "_model_name": "LayoutModel",
      "_view_count": null,
      "_view_module": "@jupyter-widgets/base",
      "_view_module_version": "1.2.0",
      "_view_name": "LayoutView",
      "align_content": null,
      "align_items": null,
      "align_self": null,
      "border": null,
      "bottom": null,
      "display": null,
      "flex": null,
      "flex_flow": null,
      "grid_area": null,
      "grid_auto_columns": null,
      "grid_auto_flow": null,
      "grid_auto_rows": null,
      "grid_column": null,
      "grid_gap": null,
      "grid_row": null,
      "grid_template_areas": null,
      "grid_template_columns": null,
      "grid_template_rows": null,
      "height": null,
      "justify_content": null,
      "justify_items": null,
      "left": null,
      "margin": null,
      "max_height": null,
      "max_width": null,
      "min_height": null,
      "min_width": null,
      "object_fit": null,
      "object_position": null,
      "order": null,
      "overflow": null,
      "overflow_x": null,
      "overflow_y": null,
      "padding": null,
      "right": null,
      "top": null,
      "visibility": null,
      "width": null
     }
    },
    "36c627d5d6044a358ede80e5c20a0810": {
     "model_module": "@jupyter-widgets/controls",
     "model_name": "ProgressStyleModel",
     "state": {
      "_model_module": "@jupyter-widgets/controls",
      "_model_module_version": "1.5.0",
      "_model_name": "ProgressStyleModel",
      "_view_count": null,
      "_view_module": "@jupyter-widgets/base",
      "_view_module_version": "1.2.0",
      "_view_name": "StyleView",
      "bar_color": null,
      "description_width": "initial"
     }
    },
    "436eaf6820e94e4a9a46db170fe7b512": {
     "model_module": "@jupyter-widgets/controls",
     "model_name": "DescriptionStyleModel",
     "state": {
      "_model_module": "@jupyter-widgets/controls",
      "_model_module_version": "1.5.0",
      "_model_name": "DescriptionStyleModel",
      "_view_count": null,
      "_view_module": "@jupyter-widgets/base",
      "_view_module_version": "1.2.0",
      "_view_name": "StyleView",
      "description_width": ""
     }
    },
    "46acf6f3ec904e1c8a4b6287bff90b8a": {
     "model_module": "@jupyter-widgets/controls",
     "model_name": "FloatProgressModel",
     "state": {
      "_dom_classes": [],
      "_model_module": "@jupyter-widgets/controls",
      "_model_module_version": "1.5.0",
      "_model_name": "FloatProgressModel",
      "_view_count": null,
      "_view_module": "@jupyter-widgets/controls",
      "_view_module_version": "1.5.0",
      "_view_name": "ProgressView",
      "bar_style": "info",
      "description": "  0%",
      "description_tooltip": null,
      "layout": "IPY_MODEL_92a89d59b07348c78efe9362fe2a7f76",
      "max": 1,
      "min": 0,
      "orientation": "horizontal",
      "style": "IPY_MODEL_62e819c18b004dabb144e7c38e57de20",
      "value": 0
     }
    },
    "478a79313cd84555922590670687f0ee": {
     "model_module": "@jupyter-widgets/controls",
     "model_name": "DescriptionStyleModel",
     "state": {
      "_model_module": "@jupyter-widgets/controls",
      "_model_module_version": "1.5.0",
      "_model_name": "DescriptionStyleModel",
      "_view_count": null,
      "_view_module": "@jupyter-widgets/base",
      "_view_module_version": "1.2.0",
      "_view_name": "StyleView",
      "description_width": ""
     }
    },
    "568efdcf3dae4aa5933703b33beea3c6": {
     "model_module": "@jupyter-widgets/controls",
     "model_name": "ProgressStyleModel",
     "state": {
      "_model_module": "@jupyter-widgets/controls",
      "_model_module_version": "1.5.0",
      "_model_name": "ProgressStyleModel",
      "_view_count": null,
      "_view_module": "@jupyter-widgets/base",
      "_view_module_version": "1.2.0",
      "_view_name": "StyleView",
      "bar_color": null,
      "description_width": "initial"
     }
    },
    "62231147530f4e78a76fb186fb8df845": {
     "model_module": "@jupyter-widgets/controls",
     "model_name": "HBoxModel",
     "state": {
      "_dom_classes": [],
      "_model_module": "@jupyter-widgets/controls",
      "_model_module_version": "1.5.0",
      "_model_name": "HBoxModel",
      "_view_count": null,
      "_view_module": "@jupyter-widgets/controls",
      "_view_module_version": "1.5.0",
      "_view_name": "HBoxView",
      "box_style": "",
      "children": [
       "IPY_MODEL_46acf6f3ec904e1c8a4b6287bff90b8a",
       "IPY_MODEL_e7be428874414f28865ba21aa26f28c5"
      ],
      "layout": "IPY_MODEL_33d3e7551e7f4f1db9bf2392eb97b5fd"
     }
    },
    "62e819c18b004dabb144e7c38e57de20": {
     "model_module": "@jupyter-widgets/controls",
     "model_name": "ProgressStyleModel",
     "state": {
      "_model_module": "@jupyter-widgets/controls",
      "_model_module_version": "1.5.0",
      "_model_name": "ProgressStyleModel",
      "_view_count": null,
      "_view_module": "@jupyter-widgets/base",
      "_view_module_version": "1.2.0",
      "_view_name": "StyleView",
      "bar_color": null,
      "description_width": "initial"
     }
    },
    "6d2e484617384f379374cad7b392e1bc": {
     "model_module": "@jupyter-widgets/controls",
     "model_name": "FloatProgressModel",
     "state": {
      "_dom_classes": [],
      "_model_module": "@jupyter-widgets/controls",
      "_model_module_version": "1.5.0",
      "_model_name": "FloatProgressModel",
      "_view_count": null,
      "_view_module": "@jupyter-widgets/controls",
      "_view_module_version": "1.5.0",
      "_view_name": "ProgressView",
      "bar_style": "info",
      "description": "",
      "description_tooltip": null,
      "layout": "IPY_MODEL_c43df9bd02504c3c83b9a46cc6db4437",
      "max": 1,
      "min": 0,
      "orientation": "horizontal",
      "style": "IPY_MODEL_36c627d5d6044a358ede80e5c20a0810",
      "value": 1
     }
    },
    "71ec2ab9f883447f989f06d5bf617dac": {
     "model_module": "@jupyter-widgets/base",
     "model_name": "LayoutModel",
     "state": {
      "_model_module": "@jupyter-widgets/base",
      "_model_module_version": "1.2.0",
      "_model_name": "LayoutModel",
      "_view_count": null,
      "_view_module": "@jupyter-widgets/base",
      "_view_module_version": "1.2.0",
      "_view_name": "LayoutView",
      "align_content": null,
      "align_items": null,
      "align_self": null,
      "border": null,
      "bottom": null,
      "display": null,
      "flex": null,
      "flex_flow": null,
      "grid_area": null,
      "grid_auto_columns": null,
      "grid_auto_flow": null,
      "grid_auto_rows": null,
      "grid_column": null,
      "grid_gap": null,
      "grid_row": null,
      "grid_template_areas": null,
      "grid_template_columns": null,
      "grid_template_rows": null,
      "height": null,
      "justify_content": null,
      "justify_items": null,
      "left": null,
      "margin": null,
      "max_height": null,
      "max_width": null,
      "min_height": null,
      "min_width": null,
      "object_fit": null,
      "object_position": null,
      "order": null,
      "overflow": null,
      "overflow_x": null,
      "overflow_y": null,
      "padding": null,
      "right": null,
      "top": null,
      "visibility": null,
      "width": null
     }
    },
    "7b4fe3383d784957a8ee3ec177a3c37c": {
     "model_module": "@jupyter-widgets/controls",
     "model_name": "ProgressStyleModel",
     "state": {
      "_model_module": "@jupyter-widgets/controls",
      "_model_module_version": "1.5.0",
      "_model_name": "ProgressStyleModel",
      "_view_count": null,
      "_view_module": "@jupyter-widgets/base",
      "_view_module_version": "1.2.0",
      "_view_name": "StyleView",
      "bar_color": null,
      "description_width": "initial"
     }
    },
    "7b672097ea5e48e2be28c48e54af41b7": {
     "model_module": "@jupyter-widgets/controls",
     "model_name": "HTMLModel",
     "state": {
      "_dom_classes": [],
      "_model_module": "@jupyter-widgets/controls",
      "_model_module_version": "1.5.0",
      "_model_name": "HTMLModel",
      "_view_count": null,
      "_view_module": "@jupyter-widgets/controls",
      "_view_module_version": "1.5.0",
      "_view_name": "HTMLView",
      "description": "",
      "description_tooltip": null,
      "layout": "IPY_MODEL_806edeee5bf14fc7ba6b9e884bbff424",
      "placeholder": "​",
      "style": "IPY_MODEL_17662a969b104381b9fd4fea18c247d8",
      "value": " 1654784/? [00:18&lt;00:00, 531101.73it/s]"
     }
    },
    "806edeee5bf14fc7ba6b9e884bbff424": {
     "model_module": "@jupyter-widgets/base",
     "model_name": "LayoutModel",
     "state": {
      "_model_module": "@jupyter-widgets/base",
      "_model_module_version": "1.2.0",
      "_model_name": "LayoutModel",
      "_view_count": null,
      "_view_module": "@jupyter-widgets/base",
      "_view_module_version": "1.2.0",
      "_view_name": "LayoutView",
      "align_content": null,
      "align_items": null,
      "align_self": null,
      "border": null,
      "bottom": null,
      "display": null,
      "flex": null,
      "flex_flow": null,
      "grid_area": null,
      "grid_auto_columns": null,
      "grid_auto_flow": null,
      "grid_auto_rows": null,
      "grid_column": null,
      "grid_gap": null,
      "grid_row": null,
      "grid_template_areas": null,
      "grid_template_columns": null,
      "grid_template_rows": null,
      "height": null,
      "justify_content": null,
      "justify_items": null,
      "left": null,
      "margin": null,
      "max_height": null,
      "max_width": null,
      "min_height": null,
      "min_width": null,
      "object_fit": null,
      "object_position": null,
      "order": null,
      "overflow": null,
      "overflow_x": null,
      "overflow_y": null,
      "padding": null,
      "right": null,
      "top": null,
      "visibility": null,
      "width": null
     }
    },
    "92a89d59b07348c78efe9362fe2a7f76": {
     "model_module": "@jupyter-widgets/base",
     "model_name": "LayoutModel",
     "state": {
      "_model_module": "@jupyter-widgets/base",
      "_model_module_version": "1.2.0",
      "_model_name": "LayoutModel",
      "_view_count": null,
      "_view_module": "@jupyter-widgets/base",
      "_view_module_version": "1.2.0",
      "_view_name": "LayoutView",
      "align_content": null,
      "align_items": null,
      "align_self": null,
      "border": null,
      "bottom": null,
      "display": null,
      "flex": null,
      "flex_flow": null,
      "grid_area": null,
      "grid_auto_columns": null,
      "grid_auto_flow": null,
      "grid_auto_rows": null,
      "grid_column": null,
      "grid_gap": null,
      "grid_row": null,
      "grid_template_areas": null,
      "grid_template_columns": null,
      "grid_template_rows": null,
      "height": null,
      "justify_content": null,
      "justify_items": null,
      "left": null,
      "margin": null,
      "max_height": null,
      "max_width": null,
      "min_height": null,
      "min_width": null,
      "object_fit": null,
      "object_position": null,
      "order": null,
      "overflow": null,
      "overflow_x": null,
      "overflow_y": null,
      "padding": null,
      "right": null,
      "top": null,
      "visibility": null,
      "width": null
     }
    },
    "9caa426494d5415f83962ae9e3cbf0aa": {
     "model_module": "@jupyter-widgets/controls",
     "model_name": "FloatProgressModel",
     "state": {
      "_dom_classes": [],
      "_model_module": "@jupyter-widgets/controls",
      "_model_module_version": "1.5.0",
      "_model_name": "FloatProgressModel",
      "_view_count": null,
      "_view_module": "@jupyter-widgets/controls",
      "_view_module_version": "1.5.0",
      "_view_name": "ProgressView",
      "bar_style": "info",
      "description": "  0%",
      "description_tooltip": null,
      "layout": "IPY_MODEL_e12e2ea3992440a9945a21dac2e92451",
      "max": 1,
      "min": 0,
      "orientation": "horizontal",
      "style": "IPY_MODEL_568efdcf3dae4aa5933703b33beea3c6",
      "value": 0
     }
    },
    "b819c9f4b5894921ae0b860f04492475": {
     "model_module": "@jupyter-widgets/controls",
     "model_name": "HBoxModel",
     "state": {
      "_dom_classes": [],
      "_model_module": "@jupyter-widgets/controls",
      "_model_module_version": "1.5.0",
      "_model_name": "HBoxModel",
      "_view_count": null,
      "_view_module": "@jupyter-widgets/controls",
      "_view_module_version": "1.5.0",
      "_view_name": "HBoxView",
      "box_style": "",
      "children": [
       "IPY_MODEL_6d2e484617384f379374cad7b392e1bc",
       "IPY_MODEL_7b672097ea5e48e2be28c48e54af41b7"
      ],
      "layout": "IPY_MODEL_f5d911af83cf4b3c8e3e2a3c70cbc963"
     }
    },
    "c43df9bd02504c3c83b9a46cc6db4437": {
     "model_module": "@jupyter-widgets/base",
     "model_name": "LayoutModel",
     "state": {
      "_model_module": "@jupyter-widgets/base",
      "_model_module_version": "1.2.0",
      "_model_name": "LayoutModel",
      "_view_count": null,
      "_view_module": "@jupyter-widgets/base",
      "_view_module_version": "1.2.0",
      "_view_name": "LayoutView",
      "align_content": null,
      "align_items": null,
      "align_self": null,
      "border": null,
      "bottom": null,
      "display": null,
      "flex": null,
      "flex_flow": null,
      "grid_area": null,
      "grid_auto_columns": null,
      "grid_auto_flow": null,
      "grid_auto_rows": null,
      "grid_column": null,
      "grid_gap": null,
      "grid_row": null,
      "grid_template_areas": null,
      "grid_template_columns": null,
      "grid_template_rows": null,
      "height": null,
      "justify_content": null,
      "justify_items": null,
      "left": null,
      "margin": null,
      "max_height": null,
      "max_width": null,
      "min_height": null,
      "min_width": null,
      "object_fit": null,
      "object_position": null,
      "order": null,
      "overflow": null,
      "overflow_x": null,
      "overflow_y": null,
      "padding": null,
      "right": null,
      "top": null,
      "visibility": null,
      "width": null
     }
    },
    "d0ae9af39dfd42259b947879cdeacb94": {
     "model_module": "@jupyter-widgets/controls",
     "model_name": "HBoxModel",
     "state": {
      "_dom_classes": [],
      "_model_module": "@jupyter-widgets/controls",
      "_model_module_version": "1.5.0",
      "_model_name": "HBoxModel",
      "_view_count": null,
      "_view_module": "@jupyter-widgets/controls",
      "_view_module_version": "1.5.0",
      "_view_name": "HBoxView",
      "box_style": "",
      "children": [
       "IPY_MODEL_9caa426494d5415f83962ae9e3cbf0aa",
       "IPY_MODEL_daef258daa4d421c9c3de074fccfa3ee"
      ],
      "layout": "IPY_MODEL_d18562f5524f40a0b4afd536a5947bd5"
     }
    },
    "d0d7de6c1fc4428c8cb725a88ae6b188": {
     "model_module": "@jupyter-widgets/base",
     "model_name": "LayoutModel",
     "state": {
      "_model_module": "@jupyter-widgets/base",
      "_model_module_version": "1.2.0",
      "_model_name": "LayoutModel",
      "_view_count": null,
      "_view_module": "@jupyter-widgets/base",
      "_view_module_version": "1.2.0",
      "_view_name": "LayoutView",
      "align_content": null,
      "align_items": null,
      "align_self": null,
      "border": null,
      "bottom": null,
      "display": null,
      "flex": null,
      "flex_flow": null,
      "grid_area": null,
      "grid_auto_columns": null,
      "grid_auto_flow": null,
      "grid_auto_rows": null,
      "grid_column": null,
      "grid_gap": null,
      "grid_row": null,
      "grid_template_areas": null,
      "grid_template_columns": null,
      "grid_template_rows": null,
      "height": null,
      "justify_content": null,
      "justify_items": null,
      "left": null,
      "margin": null,
      "max_height": null,
      "max_width": null,
      "min_height": null,
      "min_width": null,
      "object_fit": null,
      "object_position": null,
      "order": null,
      "overflow": null,
      "overflow_x": null,
      "overflow_y": null,
      "padding": null,
      "right": null,
      "top": null,
      "visibility": null,
      "width": null
     }
    },
    "d18562f5524f40a0b4afd536a5947bd5": {
     "model_module": "@jupyter-widgets/base",
     "model_name": "LayoutModel",
     "state": {
      "_model_module": "@jupyter-widgets/base",
      "_model_module_version": "1.2.0",
      "_model_name": "LayoutModel",
      "_view_count": null,
      "_view_module": "@jupyter-widgets/base",
      "_view_module_version": "1.2.0",
      "_view_name": "LayoutView",
      "align_content": null,
      "align_items": null,
      "align_self": null,
      "border": null,
      "bottom": null,
      "display": null,
      "flex": null,
      "flex_flow": null,
      "grid_area": null,
      "grid_auto_columns": null,
      "grid_auto_flow": null,
      "grid_auto_rows": null,
      "grid_column": null,
      "grid_gap": null,
      "grid_row": null,
      "grid_template_areas": null,
      "grid_template_columns": null,
      "grid_template_rows": null,
      "height": null,
      "justify_content": null,
      "justify_items": null,
      "left": null,
      "margin": null,
      "max_height": null,
      "max_width": null,
      "min_height": null,
      "min_width": null,
      "object_fit": null,
      "object_position": null,
      "order": null,
      "overflow": null,
      "overflow_x": null,
      "overflow_y": null,
      "padding": null,
      "right": null,
      "top": null,
      "visibility": null,
      "width": null
     }
    },
    "daef258daa4d421c9c3de074fccfa3ee": {
     "model_module": "@jupyter-widgets/controls",
     "model_name": "HTMLModel",
     "state": {
      "_dom_classes": [],
      "_model_module": "@jupyter-widgets/controls",
      "_model_module_version": "1.5.0",
      "_model_name": "HTMLModel",
      "_view_count": null,
      "_view_module": "@jupyter-widgets/controls",
      "_view_module_version": "1.5.0",
      "_view_name": "HTMLView",
      "description": "",
      "description_tooltip": null,
      "layout": "IPY_MODEL_11695a6c6e734ac698c846a5e1454b6c",
      "placeholder": "​",
      "style": "IPY_MODEL_478a79313cd84555922590670687f0ee",
      "value": " 0/28881 [00:00&lt;?, ?it/s]"
     }
    },
    "ddf1a1155afa41a2bf59f675cd06995e": {
     "model_module": "@jupyter-widgets/controls",
     "model_name": "DescriptionStyleModel",
     "state": {
      "_model_module": "@jupyter-widgets/controls",
      "_model_module_version": "1.5.0",
      "_model_name": "DescriptionStyleModel",
      "_view_count": null,
      "_view_module": "@jupyter-widgets/base",
      "_view_module_version": "1.2.0",
      "_view_name": "StyleView",
      "description_width": ""
     }
    },
    "e12e2ea3992440a9945a21dac2e92451": {
     "model_module": "@jupyter-widgets/base",
     "model_name": "LayoutModel",
     "state": {
      "_model_module": "@jupyter-widgets/base",
      "_model_module_version": "1.2.0",
      "_model_name": "LayoutModel",
      "_view_count": null,
      "_view_module": "@jupyter-widgets/base",
      "_view_module_version": "1.2.0",
      "_view_name": "LayoutView",
      "align_content": null,
      "align_items": null,
      "align_self": null,
      "border": null,
      "bottom": null,
      "display": null,
      "flex": null,
      "flex_flow": null,
      "grid_area": null,
      "grid_auto_columns": null,
      "grid_auto_flow": null,
      "grid_auto_rows": null,
      "grid_column": null,
      "grid_gap": null,
      "grid_row": null,
      "grid_template_areas": null,
      "grid_template_columns": null,
      "grid_template_rows": null,
      "height": null,
      "justify_content": null,
      "justify_items": null,
      "left": null,
      "margin": null,
      "max_height": null,
      "max_width": null,
      "min_height": null,
      "min_width": null,
      "object_fit": null,
      "object_position": null,
      "order": null,
      "overflow": null,
      "overflow_x": null,
      "overflow_y": null,
      "padding": null,
      "right": null,
      "top": null,
      "visibility": null,
      "width": null
     }
    },
    "e30e67686ecc4f7bbb1eb9e59d883edc": {
     "model_module": "@jupyter-widgets/controls",
     "model_name": "HBoxModel",
     "state": {
      "_dom_classes": [],
      "_model_module": "@jupyter-widgets/controls",
      "_model_module_version": "1.5.0",
      "_model_name": "HBoxModel",
      "_view_count": null,
      "_view_module": "@jupyter-widgets/controls",
      "_view_module_version": "1.5.0",
      "_view_name": "HBoxView",
      "box_style": "",
      "children": [
       "IPY_MODEL_0fb7c10608464a4f8f98de6c08f23695",
       "IPY_MODEL_04f39d85ef914506afba686773ff6552"
      ],
      "layout": "IPY_MODEL_12776c8934b94d82a4b62ae2ac958f2a"
     }
    },
    "e7be428874414f28865ba21aa26f28c5": {
     "model_module": "@jupyter-widgets/controls",
     "model_name": "HTMLModel",
     "state": {
      "_dom_classes": [],
      "_model_module": "@jupyter-widgets/controls",
      "_model_module_version": "1.5.0",
      "_model_name": "HTMLModel",
      "_view_count": null,
      "_view_module": "@jupyter-widgets/controls",
      "_view_module_version": "1.5.0",
      "_view_name": "HTMLView",
      "description": "",
      "description_tooltip": null,
      "layout": "IPY_MODEL_d0d7de6c1fc4428c8cb725a88ae6b188",
      "placeholder": "​",
      "style": "IPY_MODEL_ddf1a1155afa41a2bf59f675cd06995e",
      "value": " 0/4542 [00:00&lt;?, ?it/s]"
     }
    },
    "ef3bec10c6984909860c6c750515629e": {
     "model_module": "@jupyter-widgets/base",
     "model_name": "LayoutModel",
     "state": {
      "_model_module": "@jupyter-widgets/base",
      "_model_module_version": "1.2.0",
      "_model_name": "LayoutModel",
      "_view_count": null,
      "_view_module": "@jupyter-widgets/base",
      "_view_module_version": "1.2.0",
      "_view_name": "LayoutView",
      "align_content": null,
      "align_items": null,
      "align_self": null,
      "border": null,
      "bottom": null,
      "display": null,
      "flex": null,
      "flex_flow": null,
      "grid_area": null,
      "grid_auto_columns": null,
      "grid_auto_flow": null,
      "grid_auto_rows": null,
      "grid_column": null,
      "grid_gap": null,
      "grid_row": null,
      "grid_template_areas": null,
      "grid_template_columns": null,
      "grid_template_rows": null,
      "height": null,
      "justify_content": null,
      "justify_items": null,
      "left": null,
      "margin": null,
      "max_height": null,
      "max_width": null,
      "min_height": null,
      "min_width": null,
      "object_fit": null,
      "object_position": null,
      "order": null,
      "overflow": null,
      "overflow_x": null,
      "overflow_y": null,
      "padding": null,
      "right": null,
      "top": null,
      "visibility": null,
      "width": null
     }
    },
    "f5d911af83cf4b3c8e3e2a3c70cbc963": {
     "model_module": "@jupyter-widgets/base",
     "model_name": "LayoutModel",
     "state": {
      "_model_module": "@jupyter-widgets/base",
      "_model_module_version": "1.2.0",
      "_model_name": "LayoutModel",
      "_view_count": null,
      "_view_module": "@jupyter-widgets/base",
      "_view_module_version": "1.2.0",
      "_view_name": "LayoutView",
      "align_content": null,
      "align_items": null,
      "align_self": null,
      "border": null,
      "bottom": null,
      "display": null,
      "flex": null,
      "flex_flow": null,
      "grid_area": null,
      "grid_auto_columns": null,
      "grid_auto_flow": null,
      "grid_auto_rows": null,
      "grid_column": null,
      "grid_gap": null,
      "grid_row": null,
      "grid_template_areas": null,
      "grid_template_columns": null,
      "grid_template_rows": null,
      "height": null,
      "justify_content": null,
      "justify_items": null,
      "left": null,
      "margin": null,
      "max_height": null,
      "max_width": null,
      "min_height": null,
      "min_width": null,
      "object_fit": null,
      "object_position": null,
      "order": null,
      "overflow": null,
      "overflow_x": null,
      "overflow_y": null,
      "padding": null,
      "right": null,
      "top": null,
      "visibility": null,
      "width": null
     }
    }
   }
  }
 },
 "nbformat": 4,
 "nbformat_minor": 1
}
